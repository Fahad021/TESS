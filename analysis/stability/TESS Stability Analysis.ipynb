{
 "cells": [
  {
   "cell_type": "markdown",
   "metadata": {},
   "source": [
    "This notebook documents the TESS stability analysis simulation used to study the PID model of TESS."
   ]
  },
  {
   "cell_type": "markdown",
   "metadata": {},
   "source": [
    "# System model"
   ]
  },
  {
   "cell_type": "markdown",
   "metadata": {},
   "source": [
    "The base model is as follows:"
   ]
  },
  {
   "cell_type": "code",
   "execution_count": 1,
   "metadata": {},
   "outputs": [
    {
     "name": "stdout",
     "output_type": "stream",
     "text": [
      "// TESS Stability Analysis base model\r\n",
      "\r\n",
      "class system\r\n",
      "{\r\n",
      "    int64 t0;\r\n",
      "    double inertia[s];\r\n",
      "    double damping[pu];\r\n",
      "    double regulation[MW];\r\n",
      "    double supply[MW];\r\n",
      "    double demand[MW];\r\n",
      "    double ramp[MW/h];\r\n",
      "    double frequency[Hz];\r\n",
      "    double Kp;\r\n",
      "    double Ki;\r\n",
      "    double Kd;\r\n",
      "    double intfreq;\r\n",
      "}\r\n",
      "\r\n",
      "class market\r\n",
      "{\r\n",
      "    double interval[s];\r\n",
      "    double price[$/MWh];\r\n",
      "    double quantity[MW];\r\n",
      "}\r\n",
      "\r\n",
      "class battery\r\n",
      "{\r\n",
      "    double capacity[MWh];\r\n",
      "    double rating[MW];\r\n",
      "    double energy[MWh];\r\n",
      "    double power[MW];\r\n",
      "    double ramp[MW/h];\r\n",
      "    double setpoint[MWh];\r\n",
      "    double power_ask[$/MWh];\r\n",
      "    double power_offer[$/MWh];\r\n",
      "}\r\n"
     ]
    }
   ],
   "source": [
    "!cat model.glm"
   ]
  },
  {
   "cell_type": "markdown",
   "metadata": {},
   "source": [
    "The base system model has a 20 GW nonimal loading with a 10 s inertial response with 1 pu damping. The system is responding to a 100 MW generation outage.  The system frequency regulation is a PID control with $K_P=0.02$, $K_I=K_P/30$, and $K_D=K_P/10$. The base system model is constructed in GridLAB-D as follows:"
   ]
  },
  {
   "cell_type": "code",
   "execution_count": 2,
   "metadata": {},
   "outputs": [
    {
     "name": "stdout",
     "output_type": "stream",
     "text": [
      "// TESS system response to 100MW loss of generation\r\n",
      "\r\n",
      "clock \r\n",
      "{\r\n",
      "    timezone \"MST+7MDT\";\r\n",
      "    starttime \"2020-01-01 00:00:00 MST\";\r\n",
      "    stoptime \"2020-01-02 00:00:00 MST\";\r\n",
      "}\r\n",
      "\r\n",
      "#include \"model.glm\"\r\n",
      "\r\n",
      "object system\r\n",
      "{\r\n",
      "    name \"system\";\r\n",
      "    inertia 10 s;\r\n",
      "    damping 1 pu;\r\n",
      "    regulation 0 MW;\r\n",
      "    frequency 60 Hz;\r\n",
      "    supply 19900 MW;\r\n",
      "    demand 20000 MW;\r\n",
      "    ramp 0 MW/h;\r\n",
      "    Kp 0.02;\r\n",
      "    Ki ($Kp/30);\r\n",
      "    Kd ($Kp/10);\r\n",
      "    object recorder\r\n",
      "    {\r\n",
      "        file \"csv/${MODELNAME}.csv\";\r\n",
      "        interval -1;\r\n",
      "        property \"frequency,supply,demand,ramp,regulation\";\r\n",
      "        flush 30;\r\n",
      "    };\r\n",
      "    on_init python:model.system_init;\r\n",
      "    on_sync python:model.system_update;\r\n",
      "}\r\n"
     ]
    }
   ],
   "source": [
    "!cat system.glm\n",
    "!gridlabd system.glm"
   ]
  },
  {
   "cell_type": "markdown",
   "metadata": {},
   "source": [
    "The regulation and frequency responses of this system are as follows:"
   ]
  },
  {
   "cell_type": "markdown",
   "metadata": {},
   "source": [
    "![System response](png/system.png)"
   ]
  },
  {
   "cell_type": "markdown",
   "metadata": {},
   "source": [
    "In addition, the ramp-up and ramp-down scenarios are simulated using the following models:"
   ]
  },
  {
   "cell_type": "code",
   "execution_count": 3,
   "metadata": {},
   "outputs": [
    {
     "name": "stdout",
     "output_type": "stream",
     "text": [
      "// TESS system response to 100MW loss of generation under +100MW/h ramp\r\n",
      "\r\n",
      "#include \"system.glm\"\r\n",
      "modify system.ramp 100 MW/h;\r\n"
     ]
    }
   ],
   "source": [
    "!cat ramp_up.glm\n",
    "!gridlabd ramp_up.glm"
   ]
  },
  {
   "cell_type": "markdown",
   "metadata": {},
   "source": [
    "![Ramp-up response](png/ramp_up.png)"
   ]
  },
  {
   "cell_type": "code",
   "execution_count": 4,
   "metadata": {},
   "outputs": [
    {
     "name": "stdout",
     "output_type": "stream",
     "text": [
      "// TESS system response to 100MW loss of generation under -100MW/h ramp\r\n",
      "\r\n",
      "#include \"system.glm\"\r\n",
      "modify system.ramp -100 MW/h;\r\n"
     ]
    }
   ],
   "source": [
    "!cat ramp_down.glm\n",
    "!gridlabd ramp_down.glm"
   ]
  },
  {
   "cell_type": "markdown",
   "metadata": {},
   "source": [
    "![Ramp-down response](png/ramp_down.png)"
   ]
  },
  {
   "cell_type": "markdown",
   "metadata": {},
   "source": [
    "# Market model"
   ]
  },
  {
   "cell_type": "markdown",
   "metadata": {},
   "source": [
    "TODO"
   ]
  },
  {
   "cell_type": "markdown",
   "metadata": {},
   "source": [
    "# Battery model"
   ]
  },
  {
   "cell_type": "markdown",
   "metadata": {},
   "source": [
    "TODO"
   ]
  },
  {
   "cell_type": "code",
   "execution_count": null,
   "metadata": {},
   "outputs": [],
   "source": []
  }
 ],
 "metadata": {
  "kernelspec": {
   "display_name": "Python 3",
   "language": "python",
   "name": "python3"
  },
  "language_info": {
   "codemirror_mode": {
    "name": "ipython",
    "version": 3
   },
   "file_extension": ".py",
   "mimetype": "text/x-python",
   "name": "python",
   "nbconvert_exporter": "python",
   "pygments_lexer": "ipython3",
   "version": "3.7.3"
  }
 },
 "nbformat": 4,
 "nbformat_minor": 2
}
