{
 "cells": [
  {
   "cell_type": "markdown",
   "metadata": {},
   "source": [
    "This document describes the bid and response stratgies for various device types in TESS.\n",
    "\n",
    "#### Revision history\n",
    "\n",
    "| Date        | Author           | Remarks\n",
    "| ----------- | ---------------- | -------\n",
    "| 11 Mar 2020 | David P. Chassin | Initial draft"
   ]
  },
  {
   "cell_type": "markdown",
   "metadata": {},
   "source": [
    "# Price Response\n",
    "\n",
    "Bid/response strategies require information from the market about future prices. The required values are denoted, $P_{exp}$ and $P_{dev}$, the expected price and the expected standard deviation, respectively, for the upcoming market interval. \n",
    "\n",
    "The ideal market interval, $t_s$, is based on the natural time-constant of the fastest acting device.   A good rule of thumb to determine the market interval is to sample the states at about 10 times the fastest acting device's time constant. In homes, HVAC systems typically have the lowest time-constant, which is on the order of 1 hour.  Therefore the market interval $t_s=5$ minutes.  \n",
    "\n",
    "Generally speaking the dominant mode in transactive system is the diurnal (day/night) cycle.  In the absense of forward prices, the expected and variance are calculated from historical data using the last 24 hours of price data, i.e.,\n",
    "\n",
    "\\begin{equation} \\label{eq:Pexp} \\tag{1.1}\n",
    "    P_{exp}(N) = \\frac{1}{N} \\sum_{t=-N}^{-1} P_t\n",
    "\\end{equation}\n",
    "\n",
    "and\n",
    "\n",
    "\\begin{equation} \\label{eq:Pdev} \\tag{1.2}\n",
    "    P_{dev}(N) = \\sqrt{\\frac{1}{N-1} \\sum_{t=-N}^{-1} [P_t-P_{exp}(N)]^2 }\n",
    "\\end{equation}\n",
    "\n",
    "where $N=288$ for a 24-hour history of 5-minute market intervals."
   ]
  },
  {
   "cell_type": "markdown",
   "metadata": {},
   "source": [
    "### Table 1: Price Response Data\n",
    "\n",
    "| Variable | Format | Unit  | Range         | Source\n",
    "| -------- | ------ | ----- | ------------- | -------\n",
    "| $P_t$    | +10.4f |\\$/MWh | (0,$+\\infty$( | Market clearing data\n",
    "| $N$      | u      | -     | (0,$+\\infty$( | Market configuration      "
   ]
  },
  {
   "cell_type": "markdown",
   "metadata": {},
   "source": [
    "### Example 1\n",
    "\n",
    "The following example illustrates obtaining the price history, computing the expectation and deviation price, and obtaining the clearing price."
   ]
  },
  {
   "cell_type": "code",
   "execution_count": 1,
   "metadata": {},
   "outputs": [
    {
     "data": {
      "text/plain": [
       "<Figure size 640x480 with 1 Axes>"
      ]
     },
     "metadata": {},
     "output_type": "display_data"
    },
    {
     "name": "stdout",
     "output_type": "stream",
     "text": [
      "Pexp   =   +49.8457 $/MWh\n",
      "Pdev   =    +5.3550 $/MWh\n",
      "Pclear =   +56.2343 $/MWh\n"
     ]
    }
   ],
   "source": [
    "from agents import *\n",
    "from matplotlib.pyplot import *\n",
    "\n",
    "data = get_price_history(source='random',Pexp=50,Pdev=5,N=500,noise=1)\n",
    "plot(data); xlabel('Market interval (pu.ts)'); ylabel('Price ($/MWh)')\n",
    "title('Price history'); grid(); show()\n",
    "\n",
    "Pexp,Pdev = get_price_expectation(data)\n",
    "print(\"Pexp   = %+10.4f $/MWh\" % Pexp)\n",
    "print(\"Pdev   = %+10.4f $/MWh\" % Pdev)\n",
    "\n",
    "Pclear = get_clearing_price(data)\n",
    "print(\"Pclear = %+10.4f $/MWh\" % Pclear)"
   ]
  },
  {
   "cell_type": "markdown",
   "metadata": {},
   "source": [
    "----\n",
    "# HVAC\n",
    "\n",
    "For each occupancy mode, thermostatic devices depend on four user preference inputs, denoted $T_{des}$, $T_{min}$, $T_{max}$, and $K_{hvac}$ to convert temperatures to bid, and prices to bids. \n",
    "\n",
    "### Table 2: HVAC User Preference Inputs (for each occupancy mode)\n",
    "\n",
    "| Name          | Optional | Default     | Minimum | Maximum  | Definition\n",
    "| ------------- | -------- | ----------- | ------- | -------- | ----------\n",
    "| $T_{des}$     | No       | 72 degF     | 55 degF | 95 degF  | Desired indoor air temperature\n",
    "| $T_{min}$     | No       | $T_{des}$-5 | 50 degF | 90 degF  | Minimum allowed temperature\n",
    "| $T_{max}$     | No       | $T_{des}$+5 | 60 degF | 100 degF | Maximum allowed temperature\n",
    "| $K_{hvac}$    | No       | 1.0         | 0.0     | $\\infty$ | Savings setting"
   ]
  },
  {
   "cell_type": "markdown",
   "metadata": {},
   "source": [
    "### Example\n",
    "\n",
    "The following sets the user preferences for the remaining examples in this document."
   ]
  },
  {
   "cell_type": "code",
   "execution_count": 2,
   "metadata": {},
   "outputs": [
    {
     "name": "stdout",
     "output_type": "stream",
     "text": [
      "Tdes   =  72.0 degF\n",
      "Tmin   =  70.0 degF\n",
      "Tmin   =  70.0 degF\n",
      "Khvac  =   1.0\n"
     ]
    }
   ],
   "source": [
    "Tdes = 72.0\n",
    "print(\"Tdes   = %5.1f degF\" % Tdes)\n",
    "\n",
    "Tmin = Tdes - 2.0\n",
    "print(\"Tmin   = %5.1f degF\" % Tmin)\n",
    "\n",
    "Tmax = Tdes + 5.0\n",
    "print(\"Tmin   = %5.1f degF\" % Tmin)\n",
    "\n",
    "Khvac = 1.0\n",
    "print(\"Khvac  = %5.1f\" % Khvac)"
   ]
  },
  {
   "cell_type": "markdown",
   "metadata": {},
   "source": [
    "## HVAC Bid\n",
    "\n",
    "In the absence of forward prices, an HVAC agent computes the bid price when $mode\\ne0$ as follows\n",
    "\n",
    "$$\n",
    "    P_{bid} = P_{exp} - 3 \\mathrm{sign}(m) P_{dev} \\frac{T_{obs}-T_{des}}{|T_{ref}-T_{des}|} \n",
    "$$\n",
    "\n",
    "where \n",
    "\n",
    "$$\n",
    "    T_{ref} = \\left\\{ \\begin{array}{lll}\n",
    "        T_{min} & : & T_{obs} \\le T_{des}\n",
    "    \\\\\n",
    "        T_{max} & : & T_{obs} \\gt T_{des},\n",
    "    \\end{array} \\right.\n",
    "$$\n",
    "\n",
    "$mode\\in\\{-1,0,+1,+2\\}$ is the system mode ($-1$=cooling, $0$=off, $+1$=heating, $+2$=auxiliary), and $T_{obs}$ is the measured indoor air temperature.\n",
    "\n",
    "The bid quantity when $mode\\ne0$ is computed as follows\n",
    "\n",
    "$$\n",
    "    Q_{bid} = \\left\\{ \\begin{array}{lll}\n",
    "        \\bar{Q}_{cool} & : & mode = -1\n",
    "    \\\\\n",
    "        \\bar{Q}_{heat} & : & mode = +1\n",
    "    \\\\\n",
    "        \\bar{Q}_{aux} & : & mode = +2 \\text{ and } T_{obs} < T_{min}\n",
    "    \\end{array} \\right.\n",
    "$$\n",
    "\n",
    "where $\\bar{Q}_{mode}$ is the average power for the mode selected.\n",
    "\n",
    "When $mode=0$ no HVAC bid is submitted.\n",
    "\n",
    "Reference: https://www.osti.gov/biblio/926113"
   ]
  },
  {
   "cell_type": "markdown",
   "metadata": {},
   "source": [
    "### Table 3: HVAC Bid Inputs\n",
    "\n",
    "| Variable   | Format | Unit  | Range         | Source            |\n",
    "| ---------- | ------ | ----- | ------------- | ----------------- |\n",
    "| $mode$     | d      |       | {-1,0,1,-2}   | Device controller |\n",
    "| $T_{obs}$  | g      | MW    | (0,$\\infty$(  | Device controller |\n",
    "| $Q_{cool}$ | g      | MW    | (0,$\\infty$(  | Device monitor    |\n",
    "| $Q_{heat}$ | g      | MW    | (0,$\\infty$(  | Device monitor    |\n",
    "| $Q_{aux}$  | g      | MW    | (0,$\\infty$(  | Device monitor    |"
   ]
  },
  {
   "cell_type": "markdown",
   "metadata": {},
   "source": [
    "### Example 3\n",
    "\n",
    "The following example plots the HVAC price bids for heating and cooling mode."
   ]
  },
  {
   "cell_type": "code",
   "execution_count": 4,
   "metadata": {},
   "outputs": [
    {
     "ename": "TypeError",
     "evalue": "get_hvac_bid() missing 1 required positional argument: 'Qmode'",
     "output_type": "error",
     "traceback": [
      "\u001b[0;31m---------------------------------------------------------------------------\u001b[0m",
      "\u001b[0;31mTypeError\u001b[0m                                 Traceback (most recent call last)",
      "\u001b[0;32m<ipython-input-4-375f696b824d>\u001b[0m in \u001b[0;36m<module>\u001b[0;34m\u001b[0m\n\u001b[1;32m      1\u001b[0m \u001b[0mTrange\u001b[0m \u001b[0;34m=\u001b[0m \u001b[0mnp\u001b[0m\u001b[0;34m.\u001b[0m\u001b[0marange\u001b[0m\u001b[0;34m(\u001b[0m\u001b[0mstart\u001b[0m\u001b[0;34m=\u001b[0m\u001b[0mTmin\u001b[0m\u001b[0;34m,\u001b[0m\u001b[0mstop\u001b[0m\u001b[0;34m=\u001b[0m\u001b[0mTmax\u001b[0m\u001b[0;34m+\u001b[0m\u001b[0;36m0.05\u001b[0m\u001b[0;34m,\u001b[0m\u001b[0mstep\u001b[0m\u001b[0;34m=\u001b[0m\u001b[0;36m0.1\u001b[0m\u001b[0;34m)\u001b[0m\u001b[0;34m\u001b[0m\u001b[0;34m\u001b[0m\u001b[0m\n\u001b[1;32m      2\u001b[0m \u001b[0;34m\u001b[0m\u001b[0m\n\u001b[0;32m----> 3\u001b[0;31m \u001b[0mPrange\u001b[0m \u001b[0;34m=\u001b[0m \u001b[0mlist\u001b[0m\u001b[0;34m(\u001b[0m\u001b[0mmap\u001b[0m\u001b[0;34m(\u001b[0m\u001b[0;32mlambda\u001b[0m \u001b[0mTobs\u001b[0m\u001b[0;34m:\u001b[0m\u001b[0mget_hvac_bid\u001b[0m\u001b[0;34m(\u001b[0m\u001b[0mPexp\u001b[0m\u001b[0;34m,\u001b[0m\u001b[0mPdev\u001b[0m\u001b[0;34m,\u001b[0m\u001b[0;36m1\u001b[0m\u001b[0;34m,\u001b[0m\u001b[0mTobs\u001b[0m\u001b[0;34m,\u001b[0m\u001b[0mTdes\u001b[0m\u001b[0;34m,\u001b[0m\u001b[0mTmin\u001b[0m\u001b[0;34m,\u001b[0m\u001b[0mTmax\u001b[0m\u001b[0;34m,\u001b[0m\u001b[0mKhvac\u001b[0m\u001b[0;34m)\u001b[0m\u001b[0;34m,\u001b[0m\u001b[0mTrange\u001b[0m\u001b[0;34m)\u001b[0m\u001b[0;34m)\u001b[0m\u001b[0;34m\u001b[0m\u001b[0;34m\u001b[0m\u001b[0m\n\u001b[0m\u001b[1;32m      4\u001b[0m \u001b[0mplot\u001b[0m\u001b[0;34m(\u001b[0m\u001b[0mTrange\u001b[0m\u001b[0;34m,\u001b[0m\u001b[0mPrange\u001b[0m\u001b[0;34m)\u001b[0m\u001b[0;34m;\u001b[0m \u001b[0mxlabel\u001b[0m\u001b[0;34m(\u001b[0m\u001b[0;34m'Temperature (degF)'\u001b[0m\u001b[0;34m)\u001b[0m\u001b[0;34m;\u001b[0m \u001b[0mylabel\u001b[0m\u001b[0;34m(\u001b[0m\u001b[0;34m'Price ($/MWh)'\u001b[0m\u001b[0;34m)\u001b[0m\u001b[0;34m\u001b[0m\u001b[0;34m\u001b[0m\u001b[0m\n\u001b[1;32m      5\u001b[0m \u001b[0mtitle\u001b[0m\u001b[0;34m(\u001b[0m\u001b[0;34m'Heating bid curve'\u001b[0m\u001b[0;34m)\u001b[0m\u001b[0;34m;\u001b[0m \u001b[0mgrid\u001b[0m\u001b[0;34m(\u001b[0m\u001b[0;34m)\u001b[0m\u001b[0;34m;\u001b[0m \u001b[0mshow\u001b[0m\u001b[0;34m(\u001b[0m\u001b[0;34m)\u001b[0m\u001b[0;34m\u001b[0m\u001b[0;34m\u001b[0m\u001b[0m\n",
      "\u001b[0;32m<ipython-input-4-375f696b824d>\u001b[0m in \u001b[0;36m<lambda>\u001b[0;34m(Tobs)\u001b[0m\n\u001b[1;32m      1\u001b[0m \u001b[0mTrange\u001b[0m \u001b[0;34m=\u001b[0m \u001b[0mnp\u001b[0m\u001b[0;34m.\u001b[0m\u001b[0marange\u001b[0m\u001b[0;34m(\u001b[0m\u001b[0mstart\u001b[0m\u001b[0;34m=\u001b[0m\u001b[0mTmin\u001b[0m\u001b[0;34m,\u001b[0m\u001b[0mstop\u001b[0m\u001b[0;34m=\u001b[0m\u001b[0mTmax\u001b[0m\u001b[0;34m+\u001b[0m\u001b[0;36m0.05\u001b[0m\u001b[0;34m,\u001b[0m\u001b[0mstep\u001b[0m\u001b[0;34m=\u001b[0m\u001b[0;36m0.1\u001b[0m\u001b[0;34m)\u001b[0m\u001b[0;34m\u001b[0m\u001b[0;34m\u001b[0m\u001b[0m\n\u001b[1;32m      2\u001b[0m \u001b[0;34m\u001b[0m\u001b[0m\n\u001b[0;32m----> 3\u001b[0;31m \u001b[0mPrange\u001b[0m \u001b[0;34m=\u001b[0m \u001b[0mlist\u001b[0m\u001b[0;34m(\u001b[0m\u001b[0mmap\u001b[0m\u001b[0;34m(\u001b[0m\u001b[0;32mlambda\u001b[0m \u001b[0mTobs\u001b[0m\u001b[0;34m:\u001b[0m\u001b[0mget_hvac_bid\u001b[0m\u001b[0;34m(\u001b[0m\u001b[0mPexp\u001b[0m\u001b[0;34m,\u001b[0m\u001b[0mPdev\u001b[0m\u001b[0;34m,\u001b[0m\u001b[0;36m1\u001b[0m\u001b[0;34m,\u001b[0m\u001b[0mTobs\u001b[0m\u001b[0;34m,\u001b[0m\u001b[0mTdes\u001b[0m\u001b[0;34m,\u001b[0m\u001b[0mTmin\u001b[0m\u001b[0;34m,\u001b[0m\u001b[0mTmax\u001b[0m\u001b[0;34m,\u001b[0m\u001b[0mKhvac\u001b[0m\u001b[0;34m)\u001b[0m\u001b[0;34m,\u001b[0m\u001b[0mTrange\u001b[0m\u001b[0;34m)\u001b[0m\u001b[0;34m)\u001b[0m\u001b[0;34m\u001b[0m\u001b[0;34m\u001b[0m\u001b[0m\n\u001b[0m\u001b[1;32m      4\u001b[0m \u001b[0mplot\u001b[0m\u001b[0;34m(\u001b[0m\u001b[0mTrange\u001b[0m\u001b[0;34m,\u001b[0m\u001b[0mPrange\u001b[0m\u001b[0;34m)\u001b[0m\u001b[0;34m;\u001b[0m \u001b[0mxlabel\u001b[0m\u001b[0;34m(\u001b[0m\u001b[0;34m'Temperature (degF)'\u001b[0m\u001b[0;34m)\u001b[0m\u001b[0;34m;\u001b[0m \u001b[0mylabel\u001b[0m\u001b[0;34m(\u001b[0m\u001b[0;34m'Price ($/MWh)'\u001b[0m\u001b[0;34m)\u001b[0m\u001b[0;34m\u001b[0m\u001b[0;34m\u001b[0m\u001b[0m\n\u001b[1;32m      5\u001b[0m \u001b[0mtitle\u001b[0m\u001b[0;34m(\u001b[0m\u001b[0;34m'Heating bid curve'\u001b[0m\u001b[0;34m)\u001b[0m\u001b[0;34m;\u001b[0m \u001b[0mgrid\u001b[0m\u001b[0;34m(\u001b[0m\u001b[0;34m)\u001b[0m\u001b[0;34m;\u001b[0m \u001b[0mshow\u001b[0m\u001b[0;34m(\u001b[0m\u001b[0;34m)\u001b[0m\u001b[0;34m\u001b[0m\u001b[0;34m\u001b[0m\u001b[0m\n",
      "\u001b[0;31mTypeError\u001b[0m: get_hvac_bid() missing 1 required positional argument: 'Qmode'"
     ]
    }
   ],
   "source": [
    "Trange = np.arange(start=Tmin,stop=Tmax+0.05,step=0.1)\n",
    "\n",
    "Prange = list(map(lambda Tobs:get_hvac_bid(Pexp,Pdev,1,Tobs,Tdes,Tmin,Tmax,Khvac),Trange))\n",
    "plot(Trange,Prange); xlabel('Temperature (degF)'); ylabel('Price ($/MWh)')\n",
    "title('Heating bid curve'); grid(); show()\n",
    "\n",
    "Prange = list(map(lambda Tobs:get_hvac_bid(Pexp,Pdev,-1,Tobs,Tdes,Tmin,Tmax,Khvac),Trange))\n",
    "plot(Trange,Prange); xlabel('Temperature (degF)'); ylabel('Price ($/MWh)')\n",
    "title('Cooling bid curve'); grid(); show()"
   ]
  },
  {
   "cell_type": "markdown",
   "metadata": {},
   "source": [
    "## HVAC Response\n",
    "\n",
    "In the absence of forward prices, an HVAC agent computes mode as follows:\n",
    "\n",
    "$$\n",
    "    mode = \\left\\{ \\begin{array}{lll}\n",
    "        mode & : & P_{clear} \\le P_{bid}\n",
    "    \\\\\n",
    "        0 & : & P_{clear} \\gt P_{bid}.\n",
    "    \\end{array} \\right.\n",
    "$$\n",
    "\n",
    "Reference: https://www.osti.gov/biblio/926113\n",
    "\n",
    "**Table 4: HVAC Agent Inputs**\n",
    "\n",
    "| Variable    | Format | Unit   | Range        | Source      |\n",
    "| ----------- | ------ | ------ | ------------ | ----------- |\n",
    "| $P_{bid}$   | +10.4f | \\$/MWh | (0,$\\infty$( | Market data |\n",
    "| $P_{clear}$ | +10.4f | \\$/MWh | (0,$\\infty$( | Market data |"
   ]
  },
  {
   "cell_type": "markdown",
   "metadata": {},
   "source": [
    "----\n",
    "# Waterheater\n",
    "\n",
    "Heat pump waters do not provide temperature readings, so it is not possible to estimate the state-of-charge of the waterheater from the available data.  Consequently, the bidding strategy for the waterheater uses historical data to estimate the expected duty cycle $D_{exp}$. \n",
    "\n",
    "## Waterheater Bid\n",
    "\n",
    "The bid price is computed as follows:\n",
    "\n",
    "$$\n",
    "    P_{bid} = P_{exp} + 3 P_{dev} D_{exp}\n",
    "$$\n",
    "\n",
    "where the expected duty cycle is \n",
    "\n",
    "$$\n",
    "    D_{exp} = (Q_{on}-Q_{off}) \\left( \\sum_{t=-24/t_s}^{-23/t_s}Q_t \\right)^{-1},\n",
    "$$\n",
    "\n",
    "$t_s$ is the market interval (e.g., 1/12 hour), $Q_{on}$ is the measured waterheater power when on, $Q_{off}$ is the measured waterheater power when off, and $Q_t$ is the observed waterheater demand at the time $t$.\n",
    "\n",
    "## Waterheater Response\n",
    "\n",
    "The waterheater status is computed as follows:\n",
    "$$\n",
    "    Q_{set} = \\left\\{ \\begin{array}{lll}\n",
    "        Q_{bid} & : & P_{clear} \\le P_{bid} \n",
    "    \\\\\n",
    "        0.0 & : & P_{clear} \\gt P_{bid}\n",
    "    \\end{array} \\right.\n",
    "$$\n",
    "\n",
    "## Advanced Controls\n",
    "\n",
    "If the waterheater is equipped with an API to obtain the temperature $T_{obs}$ at the top of the tank and the desired water temperature $T_{des}$, then the bid strategy is as follows\n",
    "\n",
    "**Table 5: Waterheater Agent Inputs**\n",
    "\n",
    "| Variable    | Format | Unit   | Range        | Source\n",
    "| ----------- | ------ | ------ | ------------ | ------\n",
    "| $t_s$       | d      | s      | )0,$\\infty$( | Market configuration\n",
    "| $Q_t$       | g      | MWh    | (0,$\\infty$( | Device measurements\n",
    "| $Q_{bid}$   | g      | MWh    | (0,$\\infty$( | Market bids\n",
    "| $P_{bid}$   | +10.4f | \\$/MWh | (0,$\\infty$( | Market bids\n",
    "| $P_{clear}$ | +10.4f | \\$/MWh | (0,$\\infty$( | Market clearing"
   ]
  },
  {
   "cell_type": "markdown",
   "metadata": {},
   "source": [
    "----\n",
    "# Photovoltaic\n",
    "\n",
    "Rooftop PV are price takers. The bid zero and always operate if the price is non-negative.\n",
    "\n",
    "## PV Bid\n",
    "\n",
    "PV units bid\n",
    "\n",
    "$$\n",
    "    P_{bid} = 0.0\n",
    "$$\n",
    "\n",
    "and\n",
    "\n",
    "$$\n",
    "    Q_{bid} = Q_{max}\n",
    "$$\n",
    "\n",
    "## PV Response\n",
    "\n",
    "PV units always run\n",
    "\n",
    "$$\n",
    "    Q_{set} = \\left\\{ \\begin{array}{lll}\n",
    "        Q_{max} &:& P_{clear} \\ge P_{bid}\n",
    "    \\\\\n",
    "        0.0 &:& P_{clear} \\lt P_{bid}\n",
    "    \\end{array} \\right. \n",
    "$$\n",
    "\n",
    "where $Q_{set}$ is the power setpoint, and $Q_{bid}$ is the maximum available power.\n",
    "\n",
    "**Table 6: Photovoltaic Agent Inputs**\n",
    "\n",
    "| Variable    | Format | Unit   | Range        | Source\n",
    "| ----------- | ------ | ------ | ------------ | ------\n",
    "| $Q_{max}$   | g      | MWh    | (0,$\\infty$( | Device configuration\n",
    "| $P_{bid}$   | +10.4f | \\$/MWh | (0,$\\infty$( | Market bids\n",
    "| $P_{clear}$ | +10.4f | \\$/MWh | (0,$\\infty$( | Market clearing"
   ]
  },
  {
   "cell_type": "markdown",
   "metadata": {},
   "source": [
    "# Battery\n",
    "\n",
    "The battery bid/response strategy seeks to maintain a user-specified target state-of-charge $E_{des}$. Note that the value of $E_{des}$ may change over time, e.g., according to an occupancy schedule.\n",
    "\n",
    "## Battery Bid\n",
    "\n",
    "The buy price is computed as\n",
    "\n",
    "$$\n",
    "    P_{bid} = P_{exp} + 3 P_{dev} \\frac{E_{obs}-E_{des}}{|E_{ref}-E_{des}|} \n",
    "$$\n",
    "\n",
    "where $E_{obs}$ is the current observed state of charge, and\n",
    "\n",
    "$$\n",
    "    E_{ref} = \\left\\{ \\begin{array}{lll}\n",
    "        E_{min} & : & E_{obs} \\le E_{des}\n",
    "    \\\\\n",
    "        E_{max} & : & E_{obs} \\gt P_{des},\n",
    "    \\end{array} \\right.\n",
    "$$\n",
    "\n",
    "with $E_{min}$ and $E_{max}$ as the minimum and maximum allowed state of charge, as specified by the user, but not to go outside the range $[0,E_{cap}]$, where $E_{cap}$ is the storage capacity of the battery.\n",
    "\n",
    "The sell price is computed as\n",
    "\n",
    "$$\n",
    "    TODO\n",
    "$$\n",
    "\n",
    "## Battery Response\n",
    "\n",
    "The price response of the battery is\n",
    "\n",
    "$$\n",
    "    Q_{set} = \\left\\{ \\begin{array}{lll}\n",
    "        -Q_{max} & : & P_{clear} \\ge P_{bid}\n",
    "    \\\\\n",
    "        0.0 & : & P_{clear} \\lt P_{bid}\n",
    "    \\end{array} \\right. \n",
    "$$\n",
    "where\n",
    "\n",
    "$$\n",
    "    T_{ref} = \\left\\{ \\begin{array}{lll}\n",
    "        T_{min} & : & P \\le P_{exp}\n",
    "    \\\\\n",
    "        T_{max} & : & P \\gt P_{exp},\n",
    "    \\end{array} \\right.\n",
    "$$\n",
    "\n",
    "**Table 7: Battery Agent Inputs**\n",
    "\n",
    "| Variable    | Format | Unit   | Range        | Source\n",
    "| ----------- | ------ | ------ | ------------ | ------\n",
    "| TODO\n",
    "\n",
    "Reference: https://ieeexplore.ieee.org/abstract/document/7427483"
   ]
  },
  {
   "cell_type": "markdown",
   "metadata": {},
   "source": [
    "# EV Charger\n",
    "\n",
    "EV chargers act like batteries except that they do not bid to sell at any price. In addition, the bid strategy for buying has a target time at which the desired battery charge is to be achieved.\n",
    "\n",
    "## EV Bid\n",
    "\n",
    "The EV charger bid is given by\n",
    "\n",
    "$$\n",
    "    P_{bid} = P_{exp} + K_{ev} P_{dev} \\frac{t_{req}}{t_{rem}}\n",
    "$$\n",
    "\n",
    "where $K_{ev}$ is the user preference for charging strategy, $t_{req}$ is the time required to fully charge the battery, and $t_{rem}$ is the time remaining before the battery should be fully charged.\n",
    "\n",
    "The higher the value the $K_{ev}$ the more likely the battery will be fully charged when the time $t_{rem}$ has elapsed.  \n",
    "\n",
    "The time required to fully charge the battery is given by\n",
    "\n",
    "$$\n",
    "    t_{req} = \\frac{E_{max}-E_{des}}{Q_{max}}\n",
    "$$\n",
    "\n",
    "where $E_{des}$ is the desired charge added to the battery (in kWh), $E_{max}$ is the maximum capacity of the battery (in kWh), and $Q_{max}$ is the maximum charge rate (in kW).\n",
    "\n",
    "If the battery $E_{des}$ cannot be measured directly, it must be computed from user input, e.g., as a percent of maximum charge desired.\n",
    "\n",
    "The available time is computed as the difference between the desired departure time $t_{dep}$ and the current time $t$\n",
    "\n",
    "$$\n",
    "    t_{rem} = t_{dep} - t\n",
    "$$\n",
    "\n",
    "The desired departure time is a user input.\n",
    "\n",
    "\n",
    "# EV Response\n",
    "\n",
    "The EV response is\n",
    "\n",
    "$$\n",
    "    Q_{set} = \\left\\{ \\begin{array}{lll}\n",
    "        P_{clear} \\le P_{bid} & : & Q_{on}\n",
    "    \\\\\n",
    "        P_{clear} \\gt P_{bid} & : & Q_{off}\n",
    "    \\end{array} \\right.\n",
    "$$\n",
    "\n",
    "where $Q_{on}$ is the power when the charger is charging the battery, and $Q_{off}$ is the power when the charger is not charging the battery.\n",
    "\n",
    "**Table 8: EV Charger Agent Inputs**\n",
    "\n",
    "| Variable    | Format | Unit   | Range        | Source\n",
    "| ----------- | ------ | ------ | ------------ | ------\n",
    "| TODO\n",
    "\n",
    "Reference: https://ieeexplore.ieee.org/abstract/document/7427483"
   ]
  },
  {
   "cell_type": "code",
   "execution_count": null,
   "metadata": {},
   "outputs": [],
   "source": []
  }
 ],
 "metadata": {
  "kernelspec": {
   "display_name": "Python 3",
   "language": "python",
   "name": "python3"
  },
  "language_info": {
   "codemirror_mode": {
    "name": "ipython",
    "version": 3
   },
   "file_extension": ".py",
   "mimetype": "text/x-python",
   "name": "python",
   "nbconvert_exporter": "python",
   "pygments_lexer": "ipython3",
   "version": "3.7.3"
  }
 },
 "nbformat": 4,
 "nbformat_minor": 2
}
