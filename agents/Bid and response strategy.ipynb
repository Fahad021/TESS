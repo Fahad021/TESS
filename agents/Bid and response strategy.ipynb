{
 "cells": [
  {
   "cell_type": "markdown",
   "metadata": {},
   "source": [
    "This document describes the bid and response stratgies for various device types in TESS.\n",
    "\n",
    "#### Revision history\n",
    "\n",
    "| Date        | Author           | Remarks\n",
    "| ----------- | ---------------- | -------\n",
    "| 11 Mar 2020 | David P. Chassin | Initial draft"
   ]
  },
  {
   "cell_type": "markdown",
   "metadata": {},
   "source": [
    "# 1. Price Response\n",
    "\n",
    "Bid/response strategies require information from the market about future prices. The required values are denoted, $P_{exp}$ and $P_{dev}$, the expected price and the expected standard deviation, respectively, for the upcoming market interval. \n",
    "\n",
    "The ideal market interval, $t_s$, is based on the natural time-constant of the fastest acting device.   A good rule of thumb to determine the market interval is to sample the states at about 10 times the fastest acting device's time constant. In homes, HVAC systems typically have the lowest time-constant, which is on the order of 1 hour.  Therefore the market interval $t_s=5$ minutes.  \n",
    "\n",
    "Generally speaking the dominant mode in transactive system is the diurnal (day/night) cycle.  In the absense of forward prices, the expected and variance are calculated from historical data using the last 24 hours of price data, i.e.,\n",
    "\n",
    "$$ \\tag{1.1}\n",
    "    P_{exp}(N) = \\frac{1}{N} \\sum_{t=-N}^{-1} P_t\n",
    "$$\n",
    "\n",
    "and\n",
    "\n",
    "$$ \\tag{1.2}\n",
    "    P_{dev}(N) = \\sqrt{\\frac{1}{N-1} \\sum_{t=-N}^{-1} [P_t-P_{exp}(N)]^2 }\n",
    "$$\n",
    "\n",
    "where $N=288$ for a 24-hour history of 5-minute market intervals."
   ]
  },
  {
   "cell_type": "markdown",
   "metadata": {},
   "source": [
    "#### Table 1.1: Price Response Data\n",
    "\n",
    "| Variable | Format | Unit  | Range         | Source\n",
    "| -------- | ------ | ----- | ------------- | -------\n",
    "| $P_t$    | +10.4f |\\$/MWh | (0,$+\\infty$( | Market clearing data\n",
    "| $N$      | u      | -     | (0,$+\\infty$( | Market configuration      "
   ]
  },
  {
   "cell_type": "markdown",
   "metadata": {},
   "source": [
    "### Example 1.1\n",
    "\n",
    "The following example illustrates obtaining the price history, computing the expectation and deviation price, and obtaining the clearing price."
   ]
  },
  {
   "cell_type": "code",
   "execution_count": 1,
   "metadata": {},
   "outputs": [
    {
     "name": "stdout",
     "output_type": "stream",
     "text": [
      "Table 1.2: Price data\n",
      "=====================\n",
      "\n",
      "Variable   Value    Unit\n",
      "-------- ---------- -----\n",
      "Pexp       +49.9267 $/MWh\n",
      "Pdev        +4.9046 $/MWh\n",
      "Pclear     +57.4580 $/MWh\n"
     ]
    },
    {
     "data": {
      "text/plain": [
       "<Figure size 640x480 with 1 Axes>"
      ]
     },
     "metadata": {},
     "output_type": "display_data"
    },
    {
     "name": "stdout",
     "output_type": "stream",
     "text": [
      "Figure 1.1: Price history\n"
     ]
    }
   ],
   "source": [
    "from agents import *\n",
    "from matplotlib.pyplot import *\n",
    "\n",
    "data = get_price_history(source='random',Pexp=50,Pdev=5,N=500,noise=1)\n",
    "expect = get_price_expectation(data)\n",
    "Pexp = expect[\"mean\"]\n",
    "Pdev = expect[\"std\"]\n",
    "Pclear = get_clearing_price(data)\n",
    "\n",
    "print(\"Table 1.2: Price data\")\n",
    "print(\"=====================\\n\")\n",
    "print(\"Variable   Value    Unit\")\n",
    "print(\"-------- ---------- -----\")\n",
    "print(\"Pexp     %+10.4f $/MWh\" % Pexp)\n",
    "print(\"Pdev     %+10.4f $/MWh\" % Pdev)\n",
    "print(\"Pclear   %+10.4f $/MWh\" % Pclear)\n",
    "\n",
    "plot(data)\n",
    "xlabel('Market interval (pu.ts)')\n",
    "ylabel('Price ($/MWh)')\n",
    "grid()\n",
    "show()\n",
    "print(\"Figure 1.1: Price history\")\n"
   ]
  },
  {
   "cell_type": "markdown",
   "metadata": {},
   "source": [
    "----\n",
    "# 2. HVAC\n",
    "\n",
    "For each occupancy mode, thermostatic devices depend on four user preference inputs, denoted $T_{des}$, $T_{min}$, $T_{max}$, and $K_{hvac}$ to convert temperatures to bid, and prices to bids. \n",
    "\n",
    "Reference: https://www.osti.gov/biblio/926113"
   ]
  },
  {
   "cell_type": "markdown",
   "metadata": {},
   "source": [
    "#### Table 2.1: HVAC User Preference Inputs (for each occupancy mode)\n",
    "\n",
    "| Name          | Optional | Default     | Minimum | Maximum  | Definition\n",
    "| ------------- | -------- | ----------- | ------- | -------- | ----------\n",
    "| $T_{des}$     | No       | 72 degF     | 55 degF | 95 degF  | Desired indoor air temperature\n",
    "| $T_{min}$     | No       | $T_{des}$-5 | 50 degF | 90 degF  | Minimum allowed temperature\n",
    "| $T_{max}$     | No       | $T_{des}$+5 | 60 degF | 100 degF | Maximum allowed temperature\n",
    "| $K_{hvac}$    | No       | 1.0         | 0.0     | $\\infty$ | Savings setting"
   ]
  },
  {
   "cell_type": "markdown",
   "metadata": {},
   "source": [
    "### Example 2.1\n",
    "\n",
    "The following sets the user preferences for the remaining examples in this document."
   ]
  },
  {
   "cell_type": "code",
   "execution_count": 2,
   "metadata": {},
   "outputs": [
    {
     "name": "stdout",
     "output_type": "stream",
     "text": [
      "Table 2.2: User preferences\n",
      "===========================\n",
      "\n",
      "Variable Value Unit\n",
      "-------- ----- ----\n",
      "Tdes      72.0 degF\n",
      "Tmin      70.0 degF\n",
      "Tmin      70.0 degF\n",
      "Khvac      1.0\n"
     ]
    }
   ],
   "source": [
    "Tdes = 72.0\n",
    "Tmin = Tdes - 2.0\n",
    "Tmax = Tdes + 5.0\n",
    "Khvac = 1.0\n",
    "\n",
    "print(\"Table 2.2: User preferences\")\n",
    "print(\"===========================\\n\")\n",
    "print(\"Variable Value Unit\")\n",
    "print(\"-------- ----- ----\")\n",
    "print(\"Tdes     %5.1f degF\" % Tdes)\n",
    "print(\"Tmin     %5.1f degF\" % Tmin)\n",
    "print(\"Tmin     %5.1f degF\" % Tmin)\n",
    "print(\"Khvac    %5.1f\" % Khvac)"
   ]
  },
  {
   "cell_type": "markdown",
   "metadata": {},
   "source": [
    "## 2.1 HVAC Bid\n",
    "\n",
    "In the absence of forward prices, an HVAC agent computes the bid price when $mode\\ne0$ as follows\n",
    "\n",
    "$$ \\tag{2.1}\n",
    "    P_{bid} = P_{exp} - 3 \\mathrm{sign}(m) P_{dev} \\frac{T_{obs}-T_{des}}{|T_{ref}-T_{des}|} \n",
    "$$\n",
    "\n",
    "where \n",
    "\n",
    "$$ \\tag{2.2}\n",
    "    T_{ref} = \\left\\{ \\begin{array}{lll}\n",
    "        T_{min} & : & T_{obs} \\le T_{des}\n",
    "    \\\\\n",
    "        T_{max} & : & T_{obs} \\gt T_{des},\n",
    "    \\end{array} \\right.\n",
    "$$\n",
    "\n",
    "$mode\\in\\{-1,0,+1,+2\\}$ is the system mode ($-1$=cooling, $0$=off, $+1$=heating, $+2$=auxiliary), and $T_{obs}$ is the measured indoor air temperature.\n",
    "\n",
    "The bid quantity when $mode\\ne0$ is computed as follows\n",
    "\n",
    "$$ \\tag{2.3}\n",
    "    Q_{bid} = \\left\\{ \\begin{array}{lll}\n",
    "        \\bar{Q}_{cool} & : & mode = -1\n",
    "    \\\\\n",
    "        \\bar{Q}_{heat} & : & mode = +1\n",
    "    \\\\\n",
    "        \\bar{Q}_{aux} & : & mode = +2 \\text{ and } T_{obs} < T_{min}\n",
    "    \\end{array} \\right.\n",
    "$$\n",
    "\n",
    "where $\\bar{Q}_{mode}$ is the average power for the mode selected.\n",
    "\n",
    "When $mode=0$ no HVAC bid is submitted."
   ]
  },
  {
   "cell_type": "markdown",
   "metadata": {},
   "source": [
    "### Table 2.3: HVAC Bid Inputs\n",
    "\n",
    "| Variable   | Format | Unit  | Range         | Source            |\n",
    "| ---------- | ------ | ----- | ------------- | ----------------- |\n",
    "| $mode$     | d      |       | {-1,0,1,-2}   | Device controller |\n",
    "| $T_{obs}$  | g      | MW    | (0,$\\infty$(  | Device controller |\n",
    "| $Q_{cool}$ | g      | MW    | (0,$\\infty$(  | Device monitor    |\n",
    "| $Q_{heat}$ | g      | MW    | (0,$\\infty$(  | Device monitor    |\n",
    "| $Q_{aux}$  | g      | MW    | (0,$\\infty$(  | Device monitor    |"
   ]
  },
  {
   "cell_type": "markdown",
   "metadata": {},
   "source": [
    "### Example 2.2\n",
    "\n",
    "The following example plots the HVAC price bids for heating and cooling mode."
   ]
  },
  {
   "cell_type": "code",
   "execution_count": 3,
   "metadata": {},
   "outputs": [
    {
     "data": {
      "image/png": "[encoded data removed]",
      "text/plain": [
       "<Figure size 432x288 with 1 Axes>"
      ]
     },
     "metadata": {
      "needs_background": "light"
     },
     "output_type": "display_data"
    },
    {
     "name": "stdout",
     "output_type": "stream",
     "text": [
      "Figure 2.1: Heating bid curve\n"
     ]
    },
    {
     "data": {
      "image/png": "[encoded data removed]",
      "text/plain": [
       "<Figure size 432x288 with 1 Axes>"
      ]
     },
     "metadata": {
      "needs_background": "light"
     },
     "output_type": "display_data"
    },
    {
     "name": "stdout",
     "output_type": "stream",
     "text": [
      "Figure 2.2: Cooling bid curve\n"
     ]
    }
   ],
   "source": [
    "Trange = np.arange(start=Tmin,stop=Tmax+0.05,step=0.1)\n",
    "Qmode = [10];\n",
    "\n",
    "Prange = list(map(lambda Tobs:get_hvac_bid(Pexp,Pdev,1,Tobs,Tdes,Tmin,Tmax,Khvac,Qmode)[\"offer\"],Trange))\n",
    "plot(Trange,Prange,'.')\n",
    "xlabel('Temperature (degF)')\n",
    "ylabel('Price ($/MWh)')\n",
    "grid()\n",
    "show()\n",
    "print(\"Figure 2.1: Heating bid curve\")\n",
    "\n",
    "Prange = list(map(lambda Tobs:get_hvac_bid(Pexp,Pdev,-1,Tobs,Tdes,Tmin,Tmax,Khvac,Qmode)[\"offer\"],Trange))\n",
    "plot(Trange,Prange,'.')\n",
    "xlabel('Temperature (degF)')\n",
    "ylabel('Price ($/MWh)')\n",
    "grid()\n",
    "show()\n",
    "print(\"Figure 2.2: Cooling bid curve\")"
   ]
  },
  {
   "cell_type": "markdown",
   "metadata": {},
   "source": [
    "## 2.2 HVAC Response\n",
    "\n",
    "In the absence of forward prices, an HVAC agent computes mode as follows:\n",
    "\n",
    "$$ \\tag{2.4}\n",
    "    mode = \\left\\{ \\begin{array}{lll}\n",
    "        mode & : & P_{clear} \\le P_{bid}\n",
    "    \\\\\n",
    "        0 & : & P_{clear} \\gt P_{bid}.\n",
    "    \\end{array} \\right.\n",
    "$$\n",
    "\n",
    "Reference: https://www.osti.gov/biblio/926113\n",
    "\n",
    "**Table 2.4: HVAC Agent Inputs**\n",
    "\n",
    "| Variable    | Format | Unit   | Range        | Source      |\n",
    "| ----------- | ------ | ------ | ------------ | ----------- |\n",
    "| $P_{bid}$   | +10.4f | \\$/MWh | (0,$\\infty$( | Market data |\n",
    "| $P_{clear}$ | +10.4f | \\$/MWh | (0,$\\infty$( | Market data |"
   ]
  },
  {
   "cell_type": "markdown",
   "metadata": {},
   "source": [
    "----\n",
    "# 3. Waterheater\n",
    "\n",
    "Heat pump waters do not provide temperature readings, so it is not possible to estimate the state-of-charge of the waterheater from the available data.  Consequently, the bidding strategy for the waterheater requires an expected duty cycle $D_{exp}$ based on user preferences according to occupancy. \n",
    "\n",
    "There are two types of waterheaters TESS can control.  Standard waterheaters use thermomechanical controllers that are interrupted by the agent when the offer fails to clear the market. Standard waterheaters use a normally open interrupt relay, and the agent measures the voltage across the open relay to determine whether there is demand.  If the voltage is non-zero, a bid is submitted. If the bid clears the market, then the relay is closed.\n",
    "\n",
    "Heat-pump waterheaters use digital controller.  Interrupting power also shuts off the controller. Thus the startup time may be non-trivial.  Heat-pump waterheaters use a normally closed relay, and the current is measured.  If the current is non-trivial, a bid is submitted and if the bid fails to clear the market, the relay is opened."
   ]
  },
  {
   "cell_type": "markdown",
   "metadata": {},
   "source": [
    "## 3.1 Waterheater Bid\n",
    "\n",
    "If there is demand, i.e., voltage or current is non-zero, then the bid price is computed as follows:\n",
    "\n",
    "$$\n",
    "    P_{bid} = P_{exp} + 3 K_{hw} P_{dev} ( 2 D_{exp} - 1 ) \n",
    "$$\n",
    "\n",
    "where $K_{hw}$ is the savings setting, $t_s$ is the market interval (e.g., 5 minutes), $Q_{on}$ is the measured waterheater power when on, $Q_{off}$ is the measured waterheater power when off, $Q_t$ is the observed waterheater demand at the time $t$, and \n",
    "\n",
    "$$\n",
    "    D_{exp} = \\left\\{ \\begin{array}{lll}\n",
    "        D_{home} &:& home\n",
    "    \\\\\n",
    "        D_{work} &:& work\n",
    "    \\\\\n",
    "        D_{sleep} &:& sleep\n",
    "    \\\\\n",
    "        D_{away} &:& away\n",
    "    \\end{array} \\right.\n",
    "$$\n",
    "\n",
    "is the expected duty cycle set by the consumer based on the occupancy schedule.\n",
    "\n",
    "The bid quantity is based on the most recent non-trivial power measurement."
   ]
  },
  {
   "cell_type": "markdown",
   "metadata": {},
   "source": [
    "## 3.2 Waterheater Response\n",
    "\n",
    "The waterheater interrupt relay status is computed as follows:\n",
    "\n",
    "$$\n",
    "    relay = \\left\\{ \\begin{array}{lll}\n",
    "        closed & : & P_{clear} \\le P_{bid} \n",
    "    \\\\\n",
    "        open & : & P_{clear} \\gt P_{bid}\n",
    "    \\end{array} \\right.\n",
    "$$"
   ]
  },
  {
   "cell_type": "markdown",
   "metadata": {},
   "source": [
    "## 3.3 Advanced Controls\n",
    "\n",
    "If the waterheater is equipped with an API to obtain the temperature $T_{obs}$ at the top of the tank and the desired water temperature $T_{des}$, then the bid strategy is as follows\n",
    "\n",
    "**Table 3.1: Waterheater Agent Inputs**\n",
    "\n",
    "| Variable    | Format | Unit   | Range        | Source\n",
    "| ----------- | ------ | ------ | ------------ | ------\n",
    "| $D_{home}$  | f      | -      | (0,1)        | User preferences\n",
    "| $D_{work}$  | f      | -      | (0,1)        | User preferences\n",
    "| $D_{away}$  | f      | -      | (0,1)        | User preferences\n",
    "| $D_{sleep}$ | f      | -      | (0,1)        | User preferences\n",
    "| $occupancy$ | s      | -      | {home,work,away,sleep}    | Schedule\n",
    "| $Q_t$       | g      | MWh    | (0,$\\infty$( | Device measurements\n",
    "| $Q_{bid}$   | g      | MWh    | (0,$\\infty$( | Market bids\n",
    "| $P_{bid}$   | +10.4f | \\$/MWh | (0,$\\infty$( | Market bids\n",
    "| $P_{clear}$ | +10.4f | \\$/MWh | (0,$\\infty$( | Market clearing"
   ]
  },
  {
   "cell_type": "markdown",
   "metadata": {},
   "source": [
    "### Example 3.1\n",
    "\n",
    "The following example illustrates the waterheater bids for a range of expected duty cycles. (Note that a different history is generated for example sample, hence the variations in range over the domain.)"
   ]
  },
  {
   "cell_type": "code",
   "execution_count": 4,
   "metadata": {},
   "outputs": [
    {
     "data": {
      "image/png": "[encoded data removed]",
      "text/plain": [
       "<Figure size 432x288 with 1 Axes>"
      ]
     },
     "metadata": {
      "needs_background": "light"
     },
     "output_type": "display_data"
    }
   ],
   "source": [
    "Drange = [0.05,0.10,0.20,0.75]\n",
    "Lrange = ['Away','Sleep','Work','Home']\n",
    "Trange = ['v','*','o','^']\n",
    "Khw = 1.0\n",
    "Qwh = 6.0\n",
    "Prange = list(map(lambda Dexp:get_waterheater_bid(Pexp,Pdev,Dexp,Khw,Qwh)[\"offer\"],Drange))\n",
    "plt.figure()\n",
    "for n in range(0,len(Drange)):\n",
    "    plt.plot(Drange[n],Prange[n],Trange[n])\n",
    "plt.legend(Lrange,loc=4)\n",
    "plt.xlabel('Duty cycle (pu.time)')\n",
    "plt.ylabel('Price ($/MWh)')\n",
    "plt.xlim([0,1])\n",
    "plt.ylim([Pexp-3*Pdev*Khw-1,Pexp+3*Pdev*Khw+1])\n",
    "plt.title('Waterheater bid curve') \n",
    "plt.grid(); \n",
    "plt.savefig(f'test-fig{plt.get_fignums()[-1]}.png')"
   ]
  },
  {
   "cell_type": "markdown",
   "metadata": {},
   "source": [
    "----\n",
    "# 4. Photovoltaic\n",
    "\n",
    "Rooftop PV are price takers. The bid zero and always operate if the price is non-negative.\n",
    "\n",
    "## 4.1 Photovoltaic Bid\n",
    "\n",
    "PV units bid\n",
    "\n",
    "$$ \\tag{4.1}\n",
    "    P_{bid} = 0.0\n",
    "$$\n",
    "\n",
    "and\n",
    "\n",
    "$$ \\tag{4.2}\n",
    "    Q_{ask} = -Q_{max}\n",
    "$$\n",
    "\n",
    "## 4.2 Photovoltaic Response\n",
    "\n",
    "PV units always run when the price is non-negative\n",
    "\n",
    "$$ \\tag{4.3}\n",
    "    Q_{set} = \\left\\{ \\begin{array}{lll}\n",
    "        Q_{ask} &:& P_{clear} \\ge P_{bid}\n",
    "    \\\\\n",
    "        0.0 &:& P_{clear} \\lt P_{bid}\n",
    "    \\end{array} \\right. \n",
    "$$\n",
    "\n",
    "where $Q_{set}$ is the power setpoint, and $Q_{bid}$ is the maximum available power.\n",
    "\n",
    "**Table 4.1: Photovoltaic Agent Inputs**\n",
    "\n",
    "| Variable    | Format | Unit   | Range        | Source\n",
    "| ----------- | ------ | ------ | ------------ | ------\n",
    "| $Q_{max}$   | g      | MWh    | (0,$\\infty$( | Device configuration\n",
    "| $P_{bid}$   | +10.4f | \\$/MWh | (0,$\\infty$( | Market bids\n",
    "| $P_{clear}$ | +10.4f | \\$/MWh | (0,$\\infty$( | Market clearing"
   ]
  },
  {
   "cell_type": "markdown",
   "metadata": {},
   "source": [
    "# 5. Battery\n",
    "\n",
    "The battery bid/response strategy seeks to maintain a user-specified target state-of-charge $E_{des}$. The value of $E_{des}$ may change over time, e.g., according to an occupancy schedule.  \n",
    "\n",
    "Reference: https://ieeexplore.ieee.org/abstract/document/7427483"
   ]
  },
  {
   "cell_type": "markdown",
   "metadata": {},
   "source": [
    "## 5.1 Battery Bid\n",
    "\n",
    "The buy price is computed as\n",
    "\n",
    "$$ \\tag{5.1}\n",
    "    P_{bid} = P_{exp} + 3 K_{es} P_{dev} \\frac{E_{obs}-E_{des}}{|E_{ref}-E_{des}|} \n",
    "$$\n",
    "\n",
    "where $E_{obs}$ is the current observed state of charge, and\n",
    "\n",
    "$$ \\tag{5.2}\n",
    "    E_{ref} = \\left\\{ \\begin{array}{lll}\n",
    "        E_{min} & : & E_{obs} \\le E_{des}\n",
    "    \\\\\n",
    "        E_{max} & : & E_{obs} \\gt P_{des},\n",
    "    \\end{array} \\right.\n",
    "$$\n",
    "\n",
    "with $E_{min}$ and $E_{max}$ as the minimum and maximum allowed state of charge, as specified by the user, but not to go outside the range $[0,E_{cap}]$, where $E_{cap}$ is the storage capacity of the battery.\n",
    "\n",
    "The bid quantity is always $Q_{max}$.\n",
    "\n",
    "The offer price is computed as\n",
    "\n",
    "$$ \\tag{5.3}\n",
    "    P_{ask} = \\frac{P_{oc}}{R_{es}}  + \\frac{C_{es}}{(E_{des}+0.4)^2}\n",
    "$$\n",
    "\n",
    "where ${R_{es}}$ is the round-trip efficiency battery ageing factor, $C_{es}$ is the battery capital cost per unit energy capacity, $P_{oc}$ is the opportunity cost\n",
    "\n",
    "$$ \\tag{5.4}\n",
    "    P_{oc} = P_{exp} + 3 K_{es} P_{dev} \\frac{E_{obs}-E_{des}+Q_{max}t_s}{|E_{ref}-E_{des}-Q_{max}t_s|},\n",
    "$$\n",
    "\n",
    "and $Q_{max}$ is the maximum charging rate.\n",
    "\n",
    "The offer quantity is always $-Q_{max}$."
   ]
  },
  {
   "cell_type": "markdown",
   "metadata": {},
   "source": [
    "## 5.2 Battery Response\n",
    "\n",
    "The price response of the battery is\n",
    "\n",
    "$$ \\tag{5.5}\n",
    "    Q_{set} = \\left\\{ \\begin{array}{lll}\n",
    "        -Q_{max} & : & P_{ask} \\le P_{clear}\n",
    "    \\\\\n",
    "        0.0 & : & P_{ask} \\lt P_{clear} \\lt P_{bid}\n",
    "    \\\\\n",
    "        Q_{max} & : & P_{clear} \\le P_{bid}\n",
    "    \\end{array} \\right. \n",
    "$$"
   ]
  },
  {
   "cell_type": "markdown",
   "metadata": {},
   "source": [
    "#### Table 5.1: Battery Agent Inputs\n",
    "\n",
    "| Variable    | Format | Unit   | Range         | Source\n",
    "| ----------- | ------ | ------ | ------------- | ------\n",
    "| $K_{es}$    | f      | -      | )0,$\\infty$(  | User preferences\n",
    "| $E_{obs}$   | f      | MWh    | (0,$E_{max}$) | Device telemetry\n",
    "| $E_{des}$   | f      | MWh    | (0,$E_{max}$) | User settings\n",
    "| $E_{min}$   | f      | MWh    | (0,$E_{max}$) | Device configuration\n",
    "| $E_{max}$   | f      | MWh    | (0,$E_{max}$) | Device configuration\n",
    "| $Q_{max}$   | f      | MW     | (0,$\\infty$)  | Device configuration\n",
    "| $R_{es}$    | f      | -      | )0,1(         | Device configuration\n",
    "| $C_{es}$    | f      | \\$/MW  | )0,$\\infty$(  | Device configuration\n",
    "| $t_s$       | f      | -      | )0,$\\infty$(  | Device configuration"
   ]
  },
  {
   "cell_type": "markdown",
   "metadata": {},
   "source": [
    "#### Example 5.1\n",
    "\n",
    "The following example illustrates the bid/ask curve of energy storage batteries."
   ]
  },
  {
   "cell_type": "code",
   "execution_count": 22,
   "metadata": {},
   "outputs": [
    {
     "data": {
      "image/png": "[encoded data removed]",
      "text/plain": [
       "<Figure size 432x288 with 1 Axes>"
      ]
     },
     "metadata": {
      "needs_background": "light"
     },
     "output_type": "display_data"
    },
    {
     "name": "stdout",
     "output_type": "stream",
     "text": [
      "Figure 5.1: Battery buy/sell curve\n"
     ]
    }
   ],
   "source": [
    "Edes = 5.0\n",
    "Emin = 2.0\n",
    "Emax = 8.0\n",
    "Qmax = 1.0\n",
    "Kes = 1.0\n",
    "ts = 1/12\n",
    "Res = 0.8\n",
    "Ces = 1.0\n",
    "Erange = np.arange(Emin,Emax+0.001,(Emax-Emin)/10)\n",
    "\n",
    "figure()\n",
    "Pbuy = list(map(lambda Eobs: get_battery_bid(Pexp,Pdev,Eobs,Edes,Emin,Emax,Qmax,Kes)[\"offer\"],Erange))\n",
    "plot(Erange,Pbuy,'b')\n",
    "Psell = list(map(lambda Eobs: get_battery_ask(Pexp,Pdev,Eobs,Edes,Emin,Emax,Qmax,Kes,ts,Res,Ces)[\"ask\"],Erange))\n",
    "plot(Erange,Psell,'r')\n",
    "Pmin = Pexp-3*Pdev*Kes\n",
    "Pmax = Pexp+3*Pdev*Kes\n",
    "plot([Edes,Edes],[np.min(Pbuy),np.max(Psell)],'-.k',\n",
    "     [Emin,Emax],[Pexp,Pexp],':k',\n",
    "     [Emin,Emax],[Pmin,Pmin],':b',\n",
    "     [Emin,Emax],[Pmax,Pmax],':r',)\n",
    "grid()\n",
    "xlabel('Energy stored (kWh)')\n",
    "ylabel('Price ($/MWh)')\n",
    "xlim([Emin,Emax])\n",
    "ylim([np.min(Pbuy),np.max(Psell)])\n",
    "legend(['Buy','Sell','Edes','Pexp','Pmax','Pmin'])\n",
    "\n",
    "show()\n",
    "print('Figure 5.1: Battery buy/sell curve')"
   ]
  },
  {
   "cell_type": "markdown",
   "metadata": {},
   "source": [
    "# 6. EV Charger\n",
    "\n",
    "EV chargers act like batteries except that they do not bid to sell at any price. In addition, the bid strategy for buying has a target time at which the desired battery charge is to be achieved.\n",
    "\n",
    "Reference: https://ieeexplore.ieee.org/abstract/document/7427483"
   ]
  },
  {
   "cell_type": "markdown",
   "metadata": {},
   "source": [
    "## 6.1 EV Charger Bid\n",
    "\n",
    "The EV charger does not bid if the battery is fully charged.\n",
    "\n",
    "The EV charger bid is given by\n",
    "\n",
    "$$ \\tag{6.1}\n",
    "    P_{bid} = P_{exp} + 3 K_{ev} P_{dev} \\left( 2 \\frac{t_{req}}{t_{rem}} - 1 \\right)\n",
    "$$\n",
    "\n",
    "where $K_{ev}$ is the user preference for charging strategy, $t_{req}$ is the time required to fully charge the battery, and $t_{rem}$ is the time remaining before the battery should be fully charged.\n",
    "\n",
    "The higher the value the $K_{ev}$ the more likely the battery will be fully charged when the time $t_{rem}$ has elapsed.  \n",
    "\n",
    "The time required to fully charge the battery is given by\n",
    "\n",
    "$$ \\tag{6.2}\n",
    "    t_{req} = \\frac{E_{max}-E_{est}}{Q_{max}}\n",
    "$$\n",
    "\n",
    "where $E_{est}$ is the estimated charge added to the battery (in kWh), $E_{max}$ is the maximum capacity of the battery (in kWh), and $Q_{max}$ is the maximum charge rate (in kW). If the battery $E_{est}$ cannot be measured directly, it must be computed from user input, e.g., as a percent of maximum charge or a fraction of the range in miles.\n",
    "\n",
    "The available time is computed as the difference between the desired departure time $t_{dep}$ and the current time $t$\n",
    "\n",
    "$$ \\tag{6.3}\n",
    "    t_{rem} = t_{dep} - t\n",
    "$$\n",
    "\n",
    "The desired departure time is a user input."
   ]
  },
  {
   "cell_type": "markdown",
   "metadata": {},
   "source": [
    "# 6.2 EV Charger Response\n",
    "\n",
    "The EV response is\n",
    "\n",
    "$$ \\tag{6.4}\n",
    "    Q_{set} = \\left\\{ \\begin{array}{lll}\n",
    "        P_{clear} \\le P_{bid} & : & Q_{on}\n",
    "    \\\\\n",
    "        P_{clear} \\gt P_{bid} & : & Q_{off}\n",
    "    \\end{array} \\right.\n",
    "$$\n",
    "\n",
    "where $Q_{on}$ is the power when the charger is charging the battery, and $Q_{off}$ is the power when the charger is not charging the battery."
   ]
  },
  {
   "cell_type": "markdown",
   "metadata": {},
   "source": [
    "#### Table 6.1: EV Charger Agent Inputs\n",
    "\n",
    "| Variable    | Format | Unit   | Range        | Source\n",
    "| ----------- | ------ | ------ | ------------ | ------\n",
    "| $K_{ev}$    | f      | -      | (0,$\\infty$( | User preferences\n",
    "| $E_{max}$   | f      | kWh    | )0,$\\infty$( | Device configuration\n",
    "| $E_{est}$   | f      | kWh    | )0,$E_{max}$) | User setting\n",
    "| $Q_{max}$   | f      | kWh    | )0,$\\infty$( | Device configuration\n",
    "| $t_{des}$   | f      | s      | )0,$\\infty$( | User setting"
   ]
  },
  {
   "cell_type": "markdown",
   "metadata": {},
   "source": [
    "#### Example 6.1\n",
    "\n",
    "The following example illustrate the bid prices as the EV battery is charged, and the fraction of time remaining required to reach full charge decreases."
   ]
  },
  {
   "cell_type": "code",
   "execution_count": 6,
   "metadata": {},
   "outputs": [
    {
     "data": {
      "image/png": "[encoded data removed]",
      "text/plain": [
       "<Figure size 432x288 with 1 Axes>"
      ]
     },
     "metadata": {
      "needs_background": "light"
     },
     "output_type": "display_data"
    },
    {
     "name": "stdout",
     "output_type": "stream",
     "text": [
      "Figure 6.1: EV charger bid curve\n"
     ]
    }
   ],
   "source": [
    "trem = 1.0\n",
    "trange = np.arange(0,trem+trem/20,trem/10)\n",
    "Qev = 6.0\n",
    "Kev = 1.0\n",
    "Prange = list(map(lambda treq:get_evcharger_bid(Pexp,Pdev,Qev,Kev,treq,trem)[\"offer\"],trange))\n",
    "plt.figure()\n",
    "plt.plot(trange,Prange)\n",
    "plt.xlabel('Time required to full charge (pu.time remaining)')\n",
    "plt.ylabel('Price ($/MWh)')\n",
    "plt.xlim([0,trem])\n",
    "plt.ylim([Pexp-3*Pdev*Kev-1,Pexp+3*Pdev*Kev+1])\n",
    "plt.grid(); \n",
    "plt.show();\n",
    "print('Figure 6.1: EV charger bid curve') "
   ]
  },
  {
   "cell_type": "code",
   "execution_count": null,
   "metadata": {},
   "outputs": [],
   "source": []
  }
 ],
 "metadata": {
  "kernelspec": {
   "display_name": "Python 3",
   "language": "python",
   "name": "python3"
  },
  "language_info": {
   "codemirror_mode": {
    "name": "ipython",
    "version": 3
   },
   "file_extension": ".py",
   "mimetype": "text/x-python",
   "name": "python",
   "nbconvert_exporter": "python",
   "pygments_lexer": "ipython3",
   "version": "3.7.6"
  }
 },
 "nbformat": 4,
 "nbformat_minor": 2
}
