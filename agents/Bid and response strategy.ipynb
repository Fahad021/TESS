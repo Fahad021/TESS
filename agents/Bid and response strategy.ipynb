{
 "cells": [
  {
   "cell_type": "markdown",
   "metadata": {},
   "source": [
    "This document describes the bid and response stratgies for various device types in TESS."
   ]
  },
  {
   "cell_type": "markdown",
   "metadata": {},
   "source": [
    "# Price Response\n",
    "\n",
    "Bid/response strategies require information from the market about forward prices. The values are denoted, $P_{exp}$ and $P_{dev}$, the expected price and the expected standard deviation for the upcoming market interval. \n",
    "\n",
    "The forward market interval considered is based on the natural time-constant of the device.  When a device has a very fast response, it should consider fewer forward markets than when it's natural response is very slow.  A good rule of thumb is to consider forward price data for about 10 times the time-constant of the device.\n",
    "\n",
    "In the absense of forward prices, the expected and variance are calculated from historical data using the last 24 hours of price data, i.e.,\n",
    "\n",
    "$$\n",
    "    P_{exp}(N) = \\frac{1}{N} \\sum_{t=-N}^{-1} P_t\n",
    "$$\n",
    "\n",
    "and\n",
    "\n",
    "$$\n",
    "    P_{dev}(N) = \\frac{1}{N} \\left( \\sum_{t=-N}^{-1} [P_t-P_{exp}(N)]^2 \\right)^{\\frac12}\n",
    "$$\n",
    "\n",
    "where $N=288$ for a 24-hour history of 5-minute auctions."
   ]
  },
  {
   "cell_type": "markdown",
   "metadata": {},
   "source": [
    "# HVAC\n",
    "\n",
    "For each occupancy mode, thermostatic devices depend on three user preference inputs, denoted $T_{des}$, $T_{min}$, and $T_{max}$, to convert temperatures to bid, and prices to bids. \n",
    "\n",
    "Table 1: HVAC User Preference Inputs (for each occupancy mode)\n",
    "\n",
    "| Name          | Optional | Default     | Minimum | Maximum  | Definition\n",
    "| ------------- | -------- | ----------- | ------- | -------- | ----------\n",
    "| $T_{des}$     | No       | 72 degF     | 55 degF | 95 degF  | Desired indoor air temperature\n",
    "| $T_{min}$     | No       | $T_{des}$-5 | 50 degF | 90 degf  | Minimum allowed temperature\n",
    "| $T_{max}$     | No       | $T_{des}$+5 | 60 degF | 100 degf | Maximum allowed temperature"
   ]
  },
  {
   "cell_type": "markdown",
   "metadata": {},
   "source": [
    "## HVAC Bid\n",
    "\n",
    "In the absence of forward prices, an HVAC agent computes the bid price as follows\n",
    "\n",
    "$$\n",
    "    P_{bid} = P_{exp} - 3 m ~ P_{dev} ~ \\frac{T_{obs}-T_{des}}{|T_{ref}-T_{des}|} \n",
    "$$\n",
    "\n",
    "where $m\\in\\{-1,+1\\}$ is the system mode ($-1$=cooling, $+1$=heating), $T_{obs}$ is the measured indoor air temperature.\n",
    "\n",
    "When forward prices are given, an HVAC agent computes the bid prices as follows:\n",
    "\n",
    "<font color=red>TODO: Claudio, describe method based on orderbook data.</font>"
   ]
  },
  {
   "cell_type": "markdown",
   "metadata": {},
   "source": [
    "## HVAC Response\n",
    "\n",
    "In the absence of forward prices, an HVAC agent computes a temperature setpoint as follows:\n",
    "\n",
    "$$\n",
    "    T_{set} = \\left( T_{des} + \\frac{P_{mkt}-P_{exp}}{3m~P_{dev}} |T_{des}-T_{ref}| \\right)_{[T_{min},T_{max}]}\n",
    "$$\n",
    "\n",
    "where $P_{mkt}$ is the current price,\n",
    "\n",
    "$$\n",
    "    T_{ref} = \\left\\{ \\begin{array}{lll}\n",
    "        T_{min} & : & P \\le P_{exp}\n",
    "    \\\\\n",
    "        T_{max} & : & P \\gt P_{exp},\n",
    "    \\end{array} \\right.\n",
    "$$\n",
    "\n",
    "and $x_{[a,b]}$ signifies that $x$ is restricted to the range $[a,b]$.\n",
    "\n",
    "When forward prices are given, an HVAC agent computes the temperature setpoint as follows:\n",
    "\n",
    "<font color=red>TODO: Claudio, describe method based on orderbook data.</font>"
   ]
  },
  {
   "cell_type": "markdown",
   "metadata": {},
   "source": [
    "# Waterheater\n",
    "\n",
    "Heat pump waters do not provide temperature readings, so it is relatively difficult to estimate the state-of-charge of the waterheater from the available data.  Consequently, the bidding strategy for the waterheater is based on a randomized bid.  \n",
    "\n",
    "## Waterheater Bid\n",
    "The bid price is computed as follows:\n",
    "\n",
    "$$\n",
    "    P_{bid} = P_{exp}+P_{dev} \\left\\{ \\begin{array}{lll}\n",
    "        -R\\left(\\sqrt{-2\\ln(D_{exp})}\\right) & : & D_{exp} \\le 0.5\n",
    "    \\\\\n",
    "        R\\left(\\sqrt{-2\\ln(1-D_{exp})}\\right) & : & D_{exp} \\le 0.5\n",
    "    \\end{array} \\right.\n",
    "$$\n",
    "\n",
    "where the rational function \n",
    "\n",
    "$$\n",
    "    R(\\tau) = \\frac{0.010328\\tau^2+0.802853\\tau+2.515517}{0.001308\\tau^3+0.189269\\tau^2+1.432788\\tau+1}\n",
    "$$\n",
    "\n",
    "## Waterheater Response\n",
    "\n",
    "The waterheater status is computed as follows:\n",
    "$$\n",
    "    status = \\left\\{ \\begin{array}{lll}\n",
    "        P_{clear} \\le P_{bid} & : & on\n",
    "    \\\\\n",
    "        P_{clear} \\gt P_{bid} & : & off\n",
    "    \\end{array} \\right.\n",
    "$$\n",
    "\n",
    "<font color=red>TODO: Dave, check whether the relay interrupt changes the cumulative runtime</font>"
   ]
  },
  {
   "cell_type": "markdown",
   "metadata": {},
   "source": [
    "# Photovoltaic\n",
    "\n",
    "Rooftop PV always bids zero and always runs, regardless of the price."
   ]
  },
  {
   "cell_type": "markdown",
   "metadata": {},
   "source": [
    "# Battery\n",
    "\n",
    "<font color=red>TODO: Dave, write-up the Behboodi V2G strategy</font>"
   ]
  },
  {
   "cell_type": "markdown",
   "metadata": {},
   "source": [
    "# EV Charger\n",
    "\n",
    "<font color=red>TODO: Dave, write-up the Behboodi V1G strategy</font>"
   ]
  },
  {
   "cell_type": "code",
   "execution_count": null,
   "metadata": {},
   "outputs": [],
   "source": []
  }
 ],
 "metadata": {
  "kernelspec": {
   "display_name": "Python 3",
   "language": "python",
   "name": "python3"
  },
  "language_info": {
   "codemirror_mode": {
    "name": "ipython",
    "version": 3
   },
   "file_extension": ".py",
   "mimetype": "text/x-python",
   "name": "python",
   "nbconvert_exporter": "python",
   "pygments_lexer": "ipython3",
   "version": "3.7.3"
  }
 },
 "nbformat": 4,
 "nbformat_minor": 2
}
