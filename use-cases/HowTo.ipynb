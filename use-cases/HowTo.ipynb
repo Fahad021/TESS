{
 "cells": [
  {
   "cell_type": "markdown",
   "metadata": {},
   "source": [
    "# Use Cases\n",
    "A use case is a written description of how users will perform tasks on your website.  It outlines, from a user’s point of view, a system’s behavior as it responds to a request. Each use case is represented as a sequence of simple steps, beginning with a user's goal and ending when that goal is fulfilled."
   ]
  },
  {
   "cell_type": "markdown",
   "metadata": {},
   "source": [
    "## Benefits of Use Cases\n",
    "Use cases add value because they help explain how the system should behave, and in the process they also help brainstorm what could go wrong.  They provide a list of goals and this list can be used to establish the cost and complexity of the system. Project teams can then negotiate which functions become requirements  and are built.\n",
    "\n",
    "| What Use Cases Include | What Use Cases Do NOT Include |\n",
    "| ---------------------- | ----------------------------- |\n",
    "| Who is using the website | Implementation-specific language |\n",
    "| What the user want to do | Details about the user interfaces or screens\n",
    "| The user's goal | \n",
    "| The steps the user takes to accomplish a particular task |\n",
    "| How the system should respond to an action |"
   ]
  },
  {
   "cell_type": "markdown",
   "metadata": {},
   "source": [
    "## Elements of a Use Case\n",
    "Depending on how in-depth and complex you want or need to get, use cases describe a combination of the following elements:\n",
    "\n",
    "- Actor – anyone or anything that performs a behavior (who is using the system)\n",
    "- Stakeholder – someone or something with vested interests in the behavior of the system under discussion (SUD)\n",
    "- Primary Actor – stakeholder who initiates an interaction with the system to achieve a goal\n",
    "- Preconditions – what must be true or happen before and after the use case runs.\n",
    "- Triggers – this is the event that causes the use case to be initiated.\n",
    "- Main success scenarios [Basic Flow] – use case in which nothing goes wrong.\n",
    "- Alternative paths [Alternative Flow] – these paths are a variation on the main theme. These exceptions are what happen when things go wrong at the system level."
   ]
  },
  {
   "cell_type": "markdown",
   "metadata": {},
   "source": [
    "## How To Write a Use Case\n",
    "\n",
    "Write the steps in a use case in an easy-to-understand narrative. Kenworthy (1997) outlines the following steps:\n",
    "\n",
    "1. Identify who is going to be using the website.\n",
    "2. Pick one of those users.\n",
    "3. Define what that user wants to do on the site. Each thing the user does on the site becomes a use case.\n",
    "4. For each use case, decide on the normal course of events when that user is using the site.\n",
    "5. Describe the basic course in the description for the use case. Describe it in terms of what the user does and what the system does in response that the user should be aware of.\n",
    "6. When the basic course is described, consider alternate courses of events and add those to \"extend\" the use case.\n",
    "7. Look for commonalities among the use cases. Extract these and note them as common course use cases.\n",
    "8. Repeat the steps 2 through 7 for all other users."
   ]
  },
  {
   "cell_type": "markdown",
   "metadata": {},
   "source": [
    "## Example Use Cases\n",
    "\n",
    "Below, are examples of three use cases with increasing levels of complexity.  For our purposes we have defined them as Simple, Middleweight and Heavyweight use case for doing the laundry.  In each of these types of uses cases you will see that:\n",
    "\n",
    "- A housekeeper does laundry on a Wednesday\n",
    "- She washes each load.\n",
    "- She dries each load.\n",
    "- She folds certain items.\n",
    "- She irons some items.\n",
    "- She throws away certain items."
   ]
  },
  {
   "cell_type": "markdown",
   "metadata": {},
   "source": [
    "### Simple Laundry Use Case\n",
    "\n",
    "| Element    | Description \n",
    "| :--------- | :-------------\n",
    "| Use Case 1 | Do laundry\n",
    "| Actor      | Housekeeper\n",
    "| Basic Flow | On Wednesdays, the housekeeper reports to the laundry room.  She sorts the laundry that is there.  Then she washes each load.  She dries each load. She folds the items that need folding.  She irons and hangs the items that are wrinkled.  She throws away any laundry item that is irrevocably shrunken, soiled or scorched."
   ]
  },
  {
   "cell_type": "markdown",
   "metadata": {},
   "source": [
    "### Middleweight Laundry Use Case\n",
    "\n",
    "| Element    | Description \n",
    "| :--------- | :-------------\n",
    "| Use Case 1 |Do laundry\n",
    "| Actor | Housekeeper\n",
    "| Basic flow | On Wednesdays, the housekeeper reports to the laundry room.  She sorts the laundry that is there.  Then she washes each load.  She dries each load. She folds the items that need folding.  She throws away any laundry item that is irrevocably shrunken, soiled or scorched.\n",
    "| Alternative Flow 1 | If she notices that something is wrinkled, she irons it and then hangs it on a hanger.\n",
    "| Alternative Flow 2 | If she notices that something is still dirty, she rewashes it.\n",
    "| Alternative Flow 3 | If she notices that something shrank, she throws it out."
   ]
  },
  {
   "cell_type": "markdown",
   "metadata": {},
   "source": [
    "### Heavyweight Laundry Use Case\n",
    "\n",
    "| Element | Description\n",
    "| :--- | :---\n",
    "| Use Case 1 | Housekeeper does laundry\n",
    "| Actor | Housekeeper\n",
    "| Use Case Overview | It is Wednesday and there is laundry in the laundry room. The housekeeper sorts it, then proceeds to launder each load. She folds the dry laundry as she removes it from the dryer. She irons those items that need ironing.\n",
    "| Subject Area | Domestics\n",
    "| Actor(s) | The housekeeper\n",
    "| Trigger | Dirty laundry is transported to the laundry room on Wednesday.\n",
    "| Precondition 1 | It is Wednesday\n",
    "| Precondition 2 | There is laundry in the laundry room."
   ]
  },
  {
   "cell_type": "markdown",
   "metadata": {},
   "source": [
    "#### Basic Flow\n",
    "\n",
    "Do Laundry\n",
    "\n",
    "| Element | Description\n",
    "| :--- | :---\n",
    "| Description | This scenario describes the situation where only sorting, washing and folding are required. This is the main success scenario.\n",
    "| 1 | Housekeeper sorts laundry items.\n",
    "| 2\t| Housekeeper washes each load.\n",
    "| 3\t| Housekeeper dries each load.\n",
    "| 4\t| Housekeeper verifies that laundry item does not need ironing, is clean and not shrunken.\n",
    "| 5\t| Housekeeper verifies that laundry item is foldable.\n",
    "| 6\t| Housekeeper folds laundry item\n",
    "| 7\t| Housekeeper does this until there are no more laundry items to fold\n",
    "| Termination outcome\t| Laundry is clean and folded"
   ]
  },
  {
   "cell_type": "markdown",
   "metadata": {},
   "source": [
    "#### Alternative Flow 4A\n",
    "\n",
    "Laundry item needs ironing.\n",
    "\n",
    "| Element | Desciption\n",
    "| :--- | :---\n",
    "| Description\t| This scenario describes the situation where one or more items need ironing before or in lieu of folding\n",
    "| 4A1\t| Housekeeper verifies that the laundry item needs ironing and is clean and not shrunken\n",
    "| 4A2\t| Housekeeper irons the laundry item\n",
    "| 4A3\t| Housekeeper puts laundry item on a hanger\n",
    "| Termination outcome\t| Laundry that needs ironing is ironed and hung up."
   ]
  },
  {
   "cell_type": "markdown",
   "metadata": {},
   "source": [
    "#### Alternative flow 4B\n",
    "\n",
    "Laundry item is dirty.\n",
    "\n",
    "| Element | Desciption\n",
    "| :--- | :---\n",
    "| Description\t| This scenario describes the situation where the laundry item did not get clean the first time through the wash.\n",
    "| 4B1\t| Housekeeper verifies that the laundry item is not clean.\n",
    "| 4B2\t| Housekeeper rewashes the laundry item\n",
    "| Termination outcome\t| Dirty laundry is rewashed."
   ]
  },
  {
   "cell_type": "markdown",
   "metadata": {},
   "source": [
    "#### Alternative flow 4C\n",
    "\n",
    "Laundry item shrank.\n",
    "\n",
    "| Element | Desciption\n",
    "| :--- | :---\n",
    "| Description\t| This scenario describes the situation where the laundry item shrank.\n",
    "| 4C1\t| Housekeeper verifies that the laundry item shrank\n",
    "| 4C2\t| Housekeeper disposes of laundry item.\n",
    "| Termination outcome\t| Laundry item no longer exists."
   ]
  },
  {
   "cell_type": "markdown",
   "metadata": {},
   "source": [
    "#### Alternative flow 5A\n",
    "\n",
    "Laundry item needs hanger.\n",
    "\n",
    "| Element | Desciption\n",
    "| :--- | :---\n",
    "| Description\t| This scenario describes the situation where the laundry item needs to be hung instead of folded.\n",
    "| 5A1\t| Housekeeper verifies that laundry item needs hanging.\n",
    "| 5A2\t| Housekeeper puts laundry item on a hanger.\n",
    "| Termination outcome\t| Laundry that needs hanging is hung up."
   ]
  },
  {
   "cell_type": "markdown",
   "metadata": {},
   "source": [
    "#### Post conditions\n",
    "\n",
    "All laundry clean and folded or hung up."
   ]
  },
  {
   "cell_type": "markdown",
   "metadata": {},
   "source": [
    "#### Business Rules:\n",
    "\n",
    "- Laundry can only be done on Wednesdays.\n",
    "- All ironed laundry items get hung on hangers\n",
    "- Any laundry item that is irrevocably soiled, shrunken, scorched, etc. , gets thrown out."
   ]
  },
  {
   "cell_type": "code",
   "execution_count": "null",
   "metadata": {},
   "outputs": [],
   "source": []
  }
 ],
 "metadata": {
  "kernelspec": {
   "display_name": "Python 3",
   "language": "python",
   "name": "python3"
  },
  "language_info": {
   "codemirror_mode": {
    "name": "ipython",
    "version": 3
   },
   "file_extension": ".py",
   "mimetype": "text/x-python",
   "name": "python",
   "nbconvert_exporter": "python",
   "pygments_lexer": "ipython3",
   "version": "3.7.7"
  }
 },
 "nbformat": 4,
 "nbformat_minor": 2
}
